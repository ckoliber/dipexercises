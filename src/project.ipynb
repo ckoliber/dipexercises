{
 "cells": [
  {
   "cell_type": "markdown",
   "metadata": {},
   "source": [
    "# DIP Answers\n",
    "\n",
    "- **Answer Set**: Final Project\n",
    "- **Full Name**: Mohammad Hosein Nemati\n",
    "- **Student Code**: `610300185`"
   ]
  },
  {
   "cell_type": "markdown",
   "id": "6595aa20",
   "metadata": {},
   "source": [
    "---"
   ]
  },
  {
   "cell_type": "markdown",
   "metadata": {},
   "source": [
    "## Introduction\n",
    "\n",
    "In this problem, we are going to change some parameters in order to optimize the accuracy of [**Nested Hierarchical Transformer**](https://github.com/google-research/nested-transformer) model for **CIFAR10** dataset.  \n",
    "Then we will compare the reported metrics to previously trained models in `article`\n",
    "\n",
    "In the first step, we will import some useful libraries."
   ]
  },
  {
   "cell_type": "code",
   "execution_count": null,
   "metadata": {
    "vscode": {
     "languageId": "plaintext"
    }
   },
   "outputs": [],
   "source": [
    "!pip install absl-py\n",
    "!pip install clu==0.0.3\n",
    "!pip install flax==0.3.4\n",
    "!pip install jax==0.2.14\n",
    "!pip install jaxlib==0.1.67\n",
    "!pip install ml_collections\n",
    "!pip install tensorflow-cpu==2.8.0\n",
    "!pip install tensorflow-datasets==4.3.0\n",
    "!pip install tensorflow_addons==0.13.0\n",
    "\n",
    "![ -d nested-transformer ] || git clone --depth=1 https://github.com/google-research/nested-transformer\n",
    "!cd nested-transformer && git pull"
   ]
  },
  {
   "cell_type": "code",
   "execution_count": null,
   "metadata": {
    "vscode": {
     "languageId": "plaintext"
    }
   },
   "outputs": [],
   "source": [
    "import sys\n",
    "sys.path.append('./nested-transformer')\n",
    "\n",
    "import os\n",
    "import time\n",
    "import flax\n",
    "from flax import nn\n",
    "import jax\n",
    "import jax.numpy as jnp\n",
    "import jax.tools.colab_tpu\n",
    "import numpy as np\n",
    "import tensorflow as tf\n",
    "import tensorflow_datasets as tfds\n",
    "import functools\n",
    "from absl import logging\n",
    "\n",
    "\n",
    "from libml import input_pipeline \n",
    "from libml import preprocess\n",
    "from models import nest_net  \n",
    "import train  \n",
    "from configs import cifar_nest \n",
    "from configs import imagenet_nest  \n",
    "\n",
    "jax.tools.colab_tpu.setup_tpu()\n",
    "\n",
    "# Hide any GPUs form TensorFlow. Otherwise TF might reserve memory and make\n",
    "# it unavailable to JAX.\n",
    "tf.config.experimental.set_visible_devices([], \"GPU\")\n",
    "logging.set_verbosity(logging.INFO)\n",
    "\n",
    "print(\"JAX devices:\\n\" + \"\\n\".join([repr(d) for d in jax.devices()]))\n",
    "print('Current folder content', os.listdir())"
   ]
  },
  {
   "cell_type": "markdown",
   "id": "6595aa20",
   "metadata": {},
   "source": [
    "---"
   ]
  },
  {
   "cell_type": "markdown",
   "metadata": {},
   "source": [
    "## Loading\n",
    "\n",
    "First of all, we must load our dataset and then shuffle the records."
   ]
  },
  {
   "cell_type": "code",
   "execution_count": null,
   "metadata": {
    "vscode": {
     "languageId": "plaintext"
    }
   },
   "outputs": [],
   "source": [
    "cifar_builder = tfds.builder(\"cifar10\")"
   ]
  },
  {
   "cell_type": "markdown",
   "id": "6595aa20",
   "metadata": {},
   "source": [
    "---"
   ]
  },
  {
   "cell_type": "markdown",
   "metadata": {},
   "source": [
    "## Training"
   ]
  },
  {
   "cell_type": "code",
   "execution_count": null,
   "metadata": {
    "vscode": {
     "languageId": "plaintext"
    }
   },
   "outputs": [],
   "source": [
    "config = cifar_nest.get_config()\n",
    "config.num_train_steps = 1\n",
    "config.num_eval_steps = 1\n",
    "config.num_epochs = 1\n",
    "config.warmup_epochs = 0\n",
    "config.per_device_batch_size = 128\n",
    "\n",
    "info, train_ds, eval_ds = input_pipeline.create_datasets(\n",
    "    config, jax.random.PRNGKey(0)\n",
    ")\n",
    "\n",
    "workdir = f\"./nested-transformer/checkpoints/cifar_nest_colab_{int(time.time())}\"\n",
    "\n",
    "train.train_and_evaluate(config, workdir)"
   ]
  },
  {
   "cell_type": "markdown",
   "id": "6595aa20",
   "metadata": {},
   "source": [
    "---"
   ]
  },
  {
   "cell_type": "markdown",
   "metadata": {},
   "source": [
    "## Testing"
   ]
  },
  {
   "cell_type": "code",
   "execution_count": null,
   "metadata": {
    "vscode": {
     "languageId": "plaintext"
    }
   },
   "outputs": [],
   "source": []
  },
  {
   "cell_type": "markdown",
   "id": "6595aa20",
   "metadata": {},
   "source": [
    "---"
   ]
  }
 ],
 "metadata": {
  "language_info": {
   "name": "python"
  },
  "orig_nbformat": 4
 },
 "nbformat": 4,
 "nbformat_minor": 2
}
