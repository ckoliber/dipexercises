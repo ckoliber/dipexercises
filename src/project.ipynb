{
 "cells": [
  {
   "cell_type": "markdown",
   "metadata": {},
   "source": [
    "# DIP Answers\n",
    "\n",
    "- **Answer Set**: Final Project\n",
    "- **Full Name**: Mohammad Hosein Nemati\n",
    "- **Student Code**: `610300185`"
   ]
  },
  {
   "cell_type": "markdown",
   "id": "6595aa20",
   "metadata": {},
   "source": [
    "---"
   ]
  },
  {
   "cell_type": "markdown",
   "metadata": {},
   "source": [
    "## Introduction\n",
    "\n",
    "In this problem, we are going to change some parameters in order to optimize the accuracy of [**Nested Hierarchical Transformer**](https://github.com/google-research/nested-transformer) model for **CIFAR10** dataset.  \n",
    "Then we will compare the reported metrics to previously trained models in `article`\n",
    "\n",
    "In the first step, we will import some useful libraries."
   ]
  },
  {
   "cell_type": "code",
   "execution_count": null,
   "metadata": {
    "vscode": {
     "languageId": "plaintext"
    }
   },
   "outputs": [],
   "source": [
    "!pip install absl-py\n",
    "!pip install clu==0.0.3\n",
    "!pip install flax==0.3.4\n",
    "!pip install jax==0.2.14\n",
    "!pip install jaxlib==0.1.67\n",
    "!pip install ml_collections\n",
    "!pip install tensorflow-cpu==2.8.0\n",
    "!pip install tensorflow-datasets==4.3.0\n",
    "!pip install tensorflow_addons==0.13.0\n",
    "\n",
    "!git clone https://github.com/ckoliber/dipexercises"
   ]
  },
  {
   "cell_type": "markdown",
   "id": "6595aa20",
   "metadata": {},
   "source": [
    "---"
   ]
  },
  {
   "cell_type": "markdown",
   "metadata": {},
   "source": [
    "## Training"
   ]
  },
  {
   "cell_type": "code",
   "execution_count": null,
   "metadata": {
    "vscode": {
     "languageId": "plaintext"
    }
   },
   "outputs": [],
   "source": [
    "!python ./dipexercises/project/main.py --config dipexercises/project/configs/cifar_nest.py --workdir=\"./dipexercises/project/checkpoints/nest_cifar\""
   ]
  },
  {
   "cell_type": "markdown",
   "id": "6595aa20",
   "metadata": {},
   "source": [
    "---"
   ]
  }
 ],
 "metadata": {
  "language_info": {
   "name": "python"
  },
  "orig_nbformat": 4
 },
 "nbformat": 4,
 "nbformat_minor": 2
}
